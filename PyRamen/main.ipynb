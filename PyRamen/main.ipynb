{
 "cells": [
  {
   "cell_type": "code",
   "execution_count": 1,
   "id": "a1005c15-6554-40c9-93c2-5d28d5c2c05d",
   "metadata": {
    "tags": []
   },
   "outputs": [],
   "source": [
    "\"\"\"\n",
    "Pseudo Code\n",
    "   - Data Reading involves, initializing variables and imprting the two datasets\n",
    "   - Initialize an empty report dictionary\n",
    "   - For each row in the sales data:\n",
    "        - Extract Quantity and Sales_Item\n",
    "        - If Sales_Item is not in the report dictionary:\n",
    "           - Initialize metrics for Sales_Item in the report\n",
    "   - For each row in the menu data:\n",
    "        - Extract Item, Price, and Cost\n",
    "        - If Sales_Item matches Item:\n",
    "           - Calculate Profit\n",
    "           - Update metrics in the report for Sales_Item\n",
    "           - Break the inner loop\n",
    "        - If no match found:\n",
    "           - Print a \"NO MATCH\" message\n",
    "    - Print the total number of records in the sales data\n",
    "    - Write the contents of the report dictionary to a text file in the desired format\n",
    "\n",
    "\"\"\"\n",
    "\n",
    "# Import the pathlib and csv library\n",
    "from pathlib import Path\n",
    "import csv"
   ]
  },
  {
   "cell_type": "markdown",
   "id": "0cebb315-5015-4aa2-86fb-861c968fc428",
   "metadata": {},
   "source": [
    "## Reading the Data"
   ]
  },
  {
   "cell_type": "code",
   "execution_count": 2,
   "id": "6d03f5e1-1e75-478c-96dd-ad4670946f04",
   "metadata": {
    "tags": []
   },
   "outputs": [],
   "source": [
    "# Initialize an empty menu list object to hold the contents of menu_data.csv\n",
    "menu = []\n",
    "# Initialize an empty sales list object to hold the contents of sales_data.csv\n",
    "sales = []"
   ]
  },
  {
   "cell_type": "code",
   "execution_count": 3,
   "id": "e690e41c-ce94-4e44-abef-bdfff3497d94",
   "metadata": {
    "tags": []
   },
   "outputs": [],
   "source": [
    "# Read in menu_data.csv, sales_data.csv and setting its contents to a separate list object\n",
    "menu_file_path = Path('menu_data.csv')\n",
    "sales_file_path = Path('sales_data.csv')"
   ]
  },
  {
   "cell_type": "code",
   "execution_count": 4,
   "id": "52e66899-46a1-464c-a750-31ea25e77537",
   "metadata": {
    "tags": []
   },
   "outputs": [],
   "source": [
    "# Use a with statement and open the menu_data.csv by using its file path\n",
    "with open(menu_file_path, newline='') as menu_file:\n",
    "    menu_reader = csv.reader(menu_file)\n",
    "\n",
    "    # Use the next function to skip the header (first row of the CSV)\n",
    "    next(menu_reader)\n",
    "\n",
    "    # Loop over the rest of the rows and append every row to the menu list object\n",
    "    for row in menu_reader:\n",
    "        menu.append(row)"
   ]
  },
  {
   "cell_type": "code",
   "execution_count": 5,
   "id": "0a135bf0-f20b-4e4c-b05a-2a499b31492f",
   "metadata": {
    "tags": []
   },
   "outputs": [],
   "source": [
    "# Use a with statement and open the sales_data.csv by using its file path\n",
    "with open(sales_file_path, newline='') as sales_file:\n",
    "    sales_reader = csv.reader(sales_file)\n",
    "\n",
    "    # Use the next function to skip the header (first row of the CSV)\n",
    "    next(sales_reader)\n",
    "\n",
    "    # Loop over the rest of the rows and append every row to the sales list object\n",
    "    for row in sales_reader:\n",
    "        sales.append(row)"
   ]
  },
  {
   "cell_type": "markdown",
   "id": "96f72063-ffc0-4061-adfb-7f4152302128",
   "metadata": {
    "tags": []
   },
   "source": [
    "## Data Manipulation & Analysis"
   ]
  },
  {
   "cell_type": "code",
   "execution_count": 6,
   "id": "3e635de3-70c8-45d4-93ca-0fdc88af692b",
   "metadata": {
    "tags": []
   },
   "outputs": [],
   "source": [
    "# Initialize an empty report dictionary to hold the future aggregated per-product results\n",
    "report = {}"
   ]
  },
  {
   "cell_type": "code",
   "execution_count": 7,
   "id": "e851f995-27c4-4ea9-b5ff-42113e4b1918",
   "metadata": {
    "tags": []
   },
   "outputs": [],
   "source": [
    "# Initialize a row counter variable\n",
    "row_count = 0"
   ]
  },
  {
   "cell_type": "code",
   "execution_count": 8,
   "id": "3b78ae27-c631-4baa-a653-80216bef743a",
   "metadata": {},
   "outputs": [],
   "source": [
    "# Loop over every row in the sales list object\n",
    "for row in sales:\n",
    "    # Set Quantity and Menu_Item from the sales data\n",
    "    quantity = int(row[3])\n",
    "    sales_item = row[4]\n",
    "\n",
    "    # Check if the sales_item is already in the report dictionary\n",
    "    if sales_item not in report:\n",
    "        # If not, initialize key-value pairs for the sales_item in the report\n",
    "        report[sales_item] = {\n",
    "            \"01-count\": 0,\n",
    "            \"02-revenue\": 0,\n",
    "            \"03-cogs\": 0,\n",
    "            \"04-profit\": 0\n",
    "        }\n",
    "\n",
    "    # Loop through every record in the menu data\n",
    "    for menu_row in menu:\n",
    "        # Set Item, Price, and Cost from the menu data\n",
    "        item = menu_row[0]\n",
    "        price = float(menu_row[3])\n",
    "        cost = float(menu_row[4])\n",
    "\n",
    "        # If sales_item matches the item in the menu data, calculate metrics\n",
    "        if sales_item == item:\n",
    "            # Calculate profit for the item\n",
    "            profit = price - cost\n",
    "\n",
    "            # Cumulatively add values to the corresponding metrics in the report\n",
    "            report[sales_item][\"01-count\"] += quantity\n",
    "            report[sales_item][\"02-revenue\"] += price * quantity\n",
    "            report[sales_item][\"03-cogs\"] += cost * quantity\n",
    "            report[sales_item][\"04-profit\"] += profit * quantity\n",
    "            break  # Exit the loop once a match is found\n",
    "\n",
    "    else:\n",
    "        # If no match was found, print a message\n",
    "        print(f\"{sales_item} does not equal any item in the menu data! NO MATCH!\")\n",
    "\n",
    "    # Increment the row counter by 1\n",
    "    row_count += 1"
   ]
  },
  {
   "cell_type": "code",
   "execution_count": 9,
   "id": "22c22345-fda5-4b55-b240-03cd4e2cb4cb",
   "metadata": {
    "tags": []
   },
   "outputs": [
    {
     "name": "stdout",
     "output_type": "stream",
     "text": [
      "Total number of records in sales data: 74124\n"
     ]
    }
   ],
   "source": [
    "# Print the total number of records in the sales data\n",
    "print(f\"Total number of records in sales data: {row_count}\")"
   ]
  },
  {
   "cell_type": "markdown",
   "id": "991dc184-ad48-445c-8e5a-8cb0c48d86b6",
   "metadata": {},
   "source": [
    "## Output"
   ]
  },
  {
   "cell_type": "code",
   "execution_count": 10,
   "id": "162fc13f-ebca-466b-98f2-8f4d3d39f8e5",
   "metadata": {
    "tags": []
   },
   "outputs": [],
   "source": [
    "# Write out the contents of the report dictionary to a text file\n",
    "with open('output.txt', 'w') as report_file:\n",
    "    for item, metrics in report.items():\n",
    "        report_file.write(f\"{item} {metrics}\\n\")"
   ]
  }
 ],
 "metadata": {
  "kernelspec": {
   "display_name": "Python 3 (ipykernel)",
   "language": "python",
   "name": "python3"
  },
  "language_info": {
   "codemirror_mode": {
    "name": "ipython",
    "version": 3
   },
   "file_extension": ".py",
   "mimetype": "text/x-python",
   "name": "python",
   "nbconvert_exporter": "python",
   "pygments_lexer": "ipython3",
   "version": "3.11.4"
  }
 },
 "nbformat": 4,
 "nbformat_minor": 5
}
