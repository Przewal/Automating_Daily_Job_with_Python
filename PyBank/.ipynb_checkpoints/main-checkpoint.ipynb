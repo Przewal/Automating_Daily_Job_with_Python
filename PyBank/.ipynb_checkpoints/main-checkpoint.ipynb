{
 "cells": [
  {
   "cell_type": "code",
   "execution_count": 1,
   "id": "3b7177ee-2b7c-4f1a-b932-1e7f4d17d2f3",
   "metadata": {
    "tags": []
   },
   "outputs": [],
   "source": [
    "\"\"\"\n",
    "Pseudo Code\n",
    "   - Initialize variables to 0 \n",
    "   - Create a dictionaries with keys \"date\" and \"amount\" to store the info.\n",
    "   - Read the csv file and skip the header\n",
    "   - Increment `total_months` by 1 for each row.\n",
    "   - Add `profit_loss` to `net_total` to calculate the net total.\n",
    "   - Calculate the change in profit/loss compared to the previous month and store it in `change`.\n",
    "   - Add `change` to `total_change` to accumulate the changes.\n",
    "   - Check if `change` is greater than the current greatest increase:\n",
    "     - If true, update `greatest_increase` with the current `date` and `amount`.\n",
    "   - Check if `change` is less than the current greatest decrease:\n",
    "     - If true, update `greatest_decrease` with the current `date` and `amount`.\n",
    "   - Update `previous_profit_loss` with the current `profit_loss` for the next iteration.\n",
    "   - Divide `total_change` by `(total_months - 1)` to calculate the average change.\n",
    "   - Write the output into a .txt file\n",
    "\"\"\"\n",
    "\n",
    "# Import the pathlib and csv library\n",
    "from pathlib import Path\n",
    "import csv"
   ]
  },
  {
   "cell_type": "code",
   "execution_count": 2,
   "id": "dd82c981-788c-4ae3-8112-c1fbf8caf801",
   "metadata": {},
   "outputs": [],
   "source": [
    "# Read in budget_data.csv, sales_data.csv and setting its contents to a separate list object\n",
    "budget_data_path = Path('budget_data.csv')"
   ]
  },
  {
   "cell_type": "code",
   "execution_count": 3,
   "id": "37b56edb-c538-4944-9964-6d4b116fbbbc",
   "metadata": {
    "tags": []
   },
   "outputs": [],
   "source": [
    "# Initialize variables to store financial data\n",
    "total_months = 0\n",
    "net_total = 0\n",
    "previous_profit_loss = 0\n",
    "total_change = 0"
   ]
  },
  {
   "cell_type": "code",
   "execution_count": 4,
   "id": "d908291e-6527-4892-898a-cf9c93eaacf8",
   "metadata": {
    "tags": []
   },
   "outputs": [],
   "source": [
    "# Initialize dictionaries to store greatest info data\n",
    "greatest_increase = {\"date\": \"\", \"amount\": 0}\n",
    "greatest_decrease = {\"date\": \"\", \"amount\": 0}"
   ]
  },
  {
   "cell_type": "code",
   "execution_count": 5,
   "id": "ca280bde-cdef-40e0-9613-3e6f0433edcf",
   "metadata": {
    "tags": []
   },
   "outputs": [],
   "source": [
    "# Read and iterate over the input budget_data_path file using csv.reader()\n",
    "with open(budget_data_path, 'r') as csvfile:\n",
    "    csvreader = csv.reader(csvfile)\n",
    "    \n",
    "    # Skip the header row\n",
    "    next(csvreader)\n",
    "    \n",
    "    for row in csvreader:\n",
    "        # Extract date - first column and profit/loss value - second column\n",
    "        date = row[0]\n",
    "        profit_loss = int(row[1])\n",
    "        \n",
    "        # Calculate total months - increment by one and net total - cumulative sum of profit/loss\n",
    "        total_months += 1\n",
    "        net_total += profit_loss\n",
    "        \n",
    "        # Calculate change in profit/loss\n",
    "        change = profit_loss - previous_profit_loss\n",
    "        total_change += change\n",
    "        \n",
    "        # Check for greatest increase and decrease - cross referring the dictionary\n",
    "        if change > greatest_increase[\"amount\"]:\n",
    "            greatest_increase[\"date\"] = date\n",
    "            greatest_increase[\"amount\"] = change\n",
    "        elif change < greatest_decrease[\"amount\"]:\n",
    "            greatest_decrease[\"date\"] = date\n",
    "            greatest_decrease[\"amount\"] = change\n",
    "        \n",
    "        # Update previous profit/loss for the next iteration\n",
    "        previous_profit_loss = profit_loss"
   ]
  },
  {
   "cell_type": "code",
   "execution_count": 6,
   "id": "c2958e1e-e2e9-4c2f-9825-1752b09d91d7",
   "metadata": {
    "tags": []
   },
   "outputs": [],
   "source": [
    "# Calculate the average change\n",
    "average_change = round(total_change / (total_months - 1), 2)"
   ]
  },
  {
   "cell_type": "code",
   "execution_count": 7,
   "id": "cb7bb421-bfbd-4169-bf3b-e98b60917c3d",
   "metadata": {
    "tags": []
   },
   "outputs": [
    {
     "name": "stdout",
     "output_type": "stream",
     "text": [
      "Financial Analysis\n",
      "----------------------------------------\n",
      "Total Months: 86\n",
      "Total: $38382578\n",
      "Average Change: $7895.28\n",
      "Greatest Increase in Profits: Feb-2012 ($1926159)\n",
      "Greatest Decrease in Profits: Sep-2013 ($-2196167)\n"
     ]
    }
   ],
   "source": [
    "# Print the financial analysis\n",
    "print(\"Financial Analysis\")\n",
    "print(\"-\" *40)\n",
    "print(f\"Total Months: {total_months}\")\n",
    "print(f\"Total: ${net_total}\")\n",
    "print(f\"Average Change: ${average_change}\")\n",
    "print(f\"Greatest Increase in Profits: {greatest_increase['date']} (${greatest_increase['amount']})\")\n",
    "print(f\"Greatest Decrease in Profits: {greatest_decrease['date']} (${greatest_decrease['amount']})\")"
   ]
  },
  {
   "cell_type": "markdown",
   "id": "e7ebbd1d-62ee-484f-b0eb-024b85a524d5",
   "metadata": {},
   "source": [
    "## Output"
   ]
  },
  {
   "cell_type": "code",
   "execution_count": 8,
   "id": "0cff8db4-aacb-4d1f-bc0a-9122747104a8",
   "metadata": {
    "tags": []
   },
   "outputs": [],
   "source": [
    "# Save the results to a text file\n",
    "with open('output.txt', 'w') as outputfile:\n",
    "    outputfile.write(\"Financial Analysis\\n\")\n",
    "    outputfile.write(\"-----------------------------------\\n\")\n",
    "    outputfile.write(f\"Total Months: {total_months}\\n\")\n",
    "    outputfile.write(f\"Total: ${net_total}\\n\")\n",
    "    outputfile.write(f\"Average Change: ${average_change}\\n\")\n",
    "    outputfile.write(f\"Greatest Increase in Profits: {greatest_increase['date']} (${greatest_increase['amount']})\\n\")\n",
    "    outputfile.write(f\"Greatest Decrease in Profits: {greatest_decrease['date']} (${greatest_decrease['amount']})\\n\")\n"
   ]
  }
 ],
 "metadata": {
  "kernelspec": {
   "display_name": "Python 3 (ipykernel)",
   "language": "python",
   "name": "python3"
  },
  "language_info": {
   "codemirror_mode": {
    "name": "ipython",
    "version": 3
   },
   "file_extension": ".py",
   "mimetype": "text/x-python",
   "name": "python",
   "nbconvert_exporter": "python",
   "pygments_lexer": "ipython3",
   "version": "3.11.4"
  }
 },
 "nbformat": 4,
 "nbformat_minor": 5
}
